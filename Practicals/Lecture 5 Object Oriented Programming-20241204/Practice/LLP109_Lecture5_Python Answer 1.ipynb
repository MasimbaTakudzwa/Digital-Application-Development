{
 "cells": [
  {
   "cell_type": "markdown",
   "metadata": {},
   "source": [
    "# LLP109: Digital Application Development \n",
    "# `Lecture 5- Python Practice Answer 1 (exercises)`"
   ]
  },
  {
   "cell_type": "markdown",
   "metadata": {},
   "source": [
    "# <font color='Blue'> Part A exercises: </font> \n"
   ]
  },
  {
   "cell_type": "markdown",
   "metadata": {},
   "source": [
    "**Exercise 1.**  Create a Vehicle class with attributes *name* and *mileage*. Set a default value of 0 for the *mileage* attribute. Define a method called *travel* which incremenets the *mileage* by 1 whenever it's called."
   ]
  },
  {
   "cell_type": "code",
   "execution_count": null,
   "metadata": {},
   "outputs": [],
   "source": [
    "# Answer\n",
    "class Vehicle:\n",
    "    def __init__(self, name, mileage=0):\n",
    "        self.name = name\n",
    "        self.mileage = mileage\n",
    "    \n",
    "    def travel(self):\n",
    "        self.mileage += 1"
   ]
  },
  {
   "cell_type": "markdown",
   "metadata": {},
   "source": [
    "_____"
   ]
  },
  {
   "cell_type": "markdown",
   "metadata": {},
   "source": [
    "**Exercise 2.** Create a class BMW which inherits the Vehicle class. Add a *model* and *color* attribute which represent the model and the color of the BMW. Define a method *set_color* which takes a color as an input and change the color of BMW instance."
   ]
  },
  {
   "cell_type": "code",
   "execution_count": null,
   "metadata": {},
   "outputs": [],
   "source": [
    "# Answer\n",
    "class BMW(Vehicle):\n",
    "    def __init__(self, model, color):\n",
    "        self.model = model\n",
    "        self.color = color\n",
    "        \n",
    "    def set_color(self, new_color):\n",
    "        self.color = new_color"
   ]
  },
  {
   "cell_type": "markdown",
   "metadata": {},
   "source": [
    "_____"
   ]
  },
  {
   "cell_type": "markdown",
   "metadata": {},
   "source": [
    "**Exercise 3.**  **Try this!:** We want to keep track of the number of Employees that have been recruited. Create an Employee class, define a class attribute *count* which is incremented when a new instance of Employee is created. Moreover, define a method which print the current value of *count* and name it *get_count*. (count start from 0)"
   ]
  },
  {
   "cell_type": "code",
   "execution_count": null,
   "metadata": {},
   "outputs": [],
   "source": [
    "# Answer\n",
    "class Employee:\n",
    "    count = 0\n",
    "    \n",
    "    def __init__(self):\n",
    "        Employee.count += 1\n",
    "        \n",
    "    def get_count(self):\n",
    "        print('count: ', Employee.count)"
   ]
  },
  {
   "cell_type": "markdown",
   "metadata": {},
   "source": [
    "-----"
   ]
  }
 ],
 "metadata": {
  "kernelspec": {
   "display_name": "Python 3 (ipykernel)",
   "language": "python",
   "name": "python3"
  },
  "language_info": {
   "codemirror_mode": {
    "name": "ipython",
    "version": 3
   },
   "file_extension": ".py",
   "mimetype": "text/x-python",
   "name": "python",
   "nbconvert_exporter": "python",
   "pygments_lexer": "ipython3",
   "version": "3.9.6"
  }
 },
 "nbformat": 4,
 "nbformat_minor": 4
}
