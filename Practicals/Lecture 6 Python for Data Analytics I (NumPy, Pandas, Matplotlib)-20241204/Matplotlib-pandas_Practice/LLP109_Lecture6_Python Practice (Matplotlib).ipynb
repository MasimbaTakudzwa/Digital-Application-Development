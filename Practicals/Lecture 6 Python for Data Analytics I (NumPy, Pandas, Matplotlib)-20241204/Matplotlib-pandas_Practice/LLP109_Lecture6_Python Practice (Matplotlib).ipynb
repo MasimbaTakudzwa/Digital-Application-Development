{
 "cells": [
  {
   "cell_type": "markdown",
   "metadata": {},
   "source": [
    "\n",
    "# LLP109: Digital Application Development \n",
    "# `Lecture 6 - Python Practice (Matplotlib)`\n",
    "\n"
   ]
  },
  {
   "cell_type": "markdown",
   "metadata": {},
   "source": [
    "\n",
    "Data visualization is the graphic representation of data. It involves producing images that communicate relationships among the represented data to viewers. Visualizing data is an essential part of data analysis and machine learning. We'll use Python library [Matplotlib](https://matplotlib.org) to learn and apply some popular data visualization techniques. \n",
    "\n",
    "In this tutorial we will learn about: \n",
    "- Simple line chart\n",
    "- Ways to create subplots\n",
    "- Layout and formatting\n",
    "- Selected types of graphs\n",
    "\n",
    "To begin, let's install and import the libraries. We'll use the `matplotlib.pyplot` module for basic plots like line & bar charts. It is often imported with the alias `plt`. "
   ]
  },
  {
   "cell_type": "code",
   "execution_count": null,
   "metadata": {},
   "outputs": [],
   "source": [
    "!pip install matplotlib"
   ]
  },
  {
   "cell_type": "markdown",
   "metadata": {},
   "source": [
    "Notice this we also include the special command `%matplotlib inline` to ensure that our plots are shown and embedded within the Jupyter notebook itself. Without this command, sometimes plots may show up in pop-up windows."
   ]
  },
  {
   "cell_type": "code",
   "execution_count": null,
   "metadata": {},
   "outputs": [],
   "source": [
    "import matplotlib.pyplot as plt"
   ]
  },
  {
   "cell_type": "code",
   "execution_count": null,
   "metadata": {},
   "outputs": [],
   "source": [
    "# ipython magic command:\n",
    "# This line loads matplotlib package for ipython notebook \n",
    "# and configures matplotlib to show figures embedded in the notebook, \n",
    "# instead of poping up a new window. \n",
    "%matplotlib inline"
   ]
  },
  {
   "cell_type": "markdown",
   "metadata": {},
   "source": [
    "## 1. Simple Line Chart\n",
    "\n",
    "The line chart is one of the simplest and most widely used data visualization techniques. A line chart displays information as a series of data points or markers connected by straight lines. You can customize the shape, size, color, and other aesthetic elements of the lines and markers for better visual clarity.\n",
    "\n",
    "Here's a Python list to plot"
   ]
  },
  {
   "cell_type": "code",
   "execution_count": null,
   "metadata": {},
   "outputs": [],
   "source": [
    "plt.plot([1, 2, 3, 4], [1, 4, 9, 16]);"
   ]
  },
  {
   "cell_type": "markdown",
   "metadata": {},
   "source": [
    "Calling the plt.plot function draws the line chart as expected. It also returns a list of plots drawn, shown within the output. We can include a semicolon (;) at the end of the last statement in the cell to avoiding showing the output and display just the graph."
   ]
  },
  {
   "cell_type": "markdown",
   "metadata": {},
   "source": [
    "### Plotting multi-lines"
   ]
  },
  {
   "cell_type": "code",
   "execution_count": null,
   "metadata": {},
   "outputs": [],
   "source": [
    "import numpy as np\n",
    "plt.plot([10, 20, 30, 40], [1, 4, 9, 100])\n",
    "\n",
    "x = np. linspace (0, 10, 1000) #Return evenly spaced numbers over a specified interval.\n",
    "\n",
    "y = np. power(x, 2)\n",
    "plt . plot (x, y)\n"
   ]
  },
  {
   "cell_type": "markdown",
   "metadata": {},
   "source": [
    "## Fomating your figure"
   ]
  },
  {
   "cell_type": "markdown",
   "metadata": {},
   "source": [
    "### Axes Labels\n",
    "\n",
    "We can add labels to the axes to show what each axis represents using the `plt.xlabel` and `plt.ylabel` methods."
   ]
  },
  {
   "cell_type": "code",
   "execution_count": null,
   "metadata": {},
   "outputs": [],
   "source": [
    "plt.plot([1, 2, 3, 4], [1, 4, 9, 16])\n",
    "plt.xlabel(\"x values\")\n",
    "plt.ylabel(\"some numbers\");"
   ]
  },
  {
   "cell_type": "markdown",
   "metadata": {},
   "source": [
    "### Chart Title and  Legend\n",
    "\n",
    "To differentiate between multiple lines, we can include a legend within the graph using the `plt.legend` function. We can also set a title for the chart using the `plt.title` function."
   ]
  },
  {
   "cell_type": "code",
   "execution_count": null,
   "metadata": {},
   "outputs": [],
   "source": [
    "x = np. linspace (0, 10, 1000)\n",
    "y = np. power(x, 2)\n",
    "plt . plot (x, y)\n",
    "plt.plot([10, 20, 30, 40], [1, 4, 9, 100])\n",
    "\n",
    "plt.xlabel('x axis')\n",
    "plt.ylabel('y axis')\n",
    "\n",
    "plt.title(\"Two functions\")\n",
    "plt.legend(['Line 1', 'Line 2']);"
   ]
  },
  {
   "cell_type": "markdown",
   "metadata": {},
   "source": [
    "### Line Markers\n",
    "\n",
    "We can also show markers for the data points on each line using the `marker` argument of `plt.plot`. Matplotlib provides many different markers, like a circle, cross, square, diamond, etc. You can find the full list of marker types here: https://matplotlib.org/3.1.1/api/markers_api.html ."
   ]
  },
  {
   "cell_type": "code",
   "execution_count": null,
   "metadata": {},
   "outputs": [],
   "source": [
    "x = np. linspace (0, 10, 10)\n",
    "y = np. power(x, 2)\n",
    "plt . plot (x, y, marker= 'o')\n",
    "plt.plot([10, 20, 30, 40], [1, 4, 9, 100], marker= 'x')\n",
    "\n",
    "plt.xlabel('x axis')\n",
    "plt.ylabel('y axis')\n",
    "\n",
    "plt.title(\"Two functions\")\n",
    "plt.legend(['Line 1', 'Line 2']);"
   ]
  },
  {
   "cell_type": "markdown",
   "metadata": {},
   "source": [
    "### Styling Lines and Markers\n",
    "\n",
    "The `plt.plot` function supports many arguments for styling lines and markers:\n",
    "\n",
    "- `color` or `c`: Set the color of the line ([supported colors](https://matplotlib.org/3.1.0/gallery/color/named_colors.html))\n",
    "- `linestyle` or `ls`: Choose between a solid or dashed line\n",
    "- `linewidth` or `lw`: Set the width of a line\n",
    "- `markersize` or `ms`: Set the size of markers\n",
    "- `markeredgecolor` or `mec`: Set the edge color for markers\n",
    "- `markeredgewidth` or `mew`: Set the edge width for markers\n",
    "- `markerfacecolor` or `mfc`: Set the fill color for markers\n",
    "- `alpha`: Opacity of the plot\n",
    "\n",
    "\n",
    "Check out the documentation for `plt.plot` to learn more: [https://matplotlib.org/api/_as_gen/matplotlib.pyplot.plot.html#matplotlib.pyplot.plot](https://matplotlib.org/api/_as_gen/matplotlib.pyplot.plot.html#matplotlib.pyplot.plot) ."
   ]
  },
  {
   "cell_type": "markdown",
   "metadata": {},
   "source": [
    "## 2. Creating subplots\n",
    "The plotting canvas can be split into subplots using the subplot command\n",
    "- `subplot(nrows, ncols, plot_number)`\n",
    "    - nrows - number of rows in the plot figure\n",
    "    - ncols - number of cols in the plot figure\n",
    "    - plot_number- the plot which should be activated. plot_number starts at 1, increments across rows first an has a maximum of nrows * ncols.\n",
    "\n",
    "see help(subplot) for details\n",
    "### 2.1 Matlab style: Using mathplotlib in global namespace"
   ]
  },
  {
   "cell_type": "code",
   "execution_count": null,
   "metadata": {},
   "outputs": [],
   "source": [
    "plt.subplot(1,2,1) # 1 row, 2 columns. select first subplot\n",
    "plt.plot(x, y, 'r--') #plot in red dashed lines\n",
    "plt.subplot(1,2,2) # 1 row, 2 columns. select second subplot\n",
    "plt.plot(y, x, 'g*-'); #plot in green line with marking points"
   ]
  },
  {
   "cell_type": "code",
   "execution_count": null,
   "metadata": {},
   "outputs": [],
   "source": [
    "plt.subplot(2,1,1) # 1 row, 2 columns. select first subplot\n",
    "plt.plot(x, y, 'r--') #plot in red dashed lines\n",
    "plt.subplot(2,1,2) # 1 row, 2 columns. select second subplot\n",
    "plt.plot(y, x, 'g*-'); #plot in green line with marking points\n"
   ]
  },
  {
   "cell_type": "markdown",
   "metadata": {},
   "source": [
    "Comments on MATLAB-style API\n",
    "\n",
    "- Pro\n",
    "\n",
    "    - Similar to MATLAB, so easy to get started by those who know the API\n",
    "    - Minimum coding overhead\n",
    "    - Nice in interactive explorations\n",
    "\n",
    "- Cons\n",
    "\n",
    "    - Keep track of the state of the figure in your head\n",
    "    - Can become complex for larger figures\n",
    "    - No ojbect oriented view"
   ]
  },
  {
   "cell_type": "markdown",
   "metadata": {},
   "source": [
    "### 2.2 Using mathplotlib via objects¶\n",
    "You start by creating a figure object (instance of Figure class). A figure consists of axes, where new axes can be added via the add_axes method in the Figure class\n",
    "\n",
    "- Every figure becomes an object\n",
    "- Invoke commands against the ojbect to alter state/draw items\n",
    "\n"
   ]
  },
  {
   "cell_type": "code",
   "execution_count": null,
   "metadata": {},
   "outputs": [],
   "source": [
    "import matplotlib.pyplot as plt # import the plot object as factory for plots\n",
    "fig = plt.figure() #create new figure object \n",
    "\n",
    "axes = fig.add_axes([0.1, 0.1, 0.8, 0.8]) # left, bottom, width, height (range 0 to 1)\n",
    "\n",
    "axes.plot(x, y, 'r') # plot red line\n",
    "\n",
    "axes.set_xlabel('x') # set xlabel\n",
    "axes.set_ylabel('y') # set ylabel\n",
    "axes.set_title('title'); # set title"
   ]
  },
  {
   "cell_type": "markdown",
   "metadata": {},
   "source": [
    "Although a little bit more code is involved, the advantage is that we now have full control of where the plot axes are place, and we can easily add more than one axis to the figure.\n",
    "\n",
    "### Adding axes\n",
    "\n",
    "You can add axes (=sub plots) anywhere by specifying their bounding box [left, bottom, width, height]"
   ]
  },
  {
   "cell_type": "code",
   "execution_count": null,
   "metadata": {},
   "outputs": [],
   "source": [
    "fig = plt.figure()\n",
    "\n",
    "axes1 = fig.add_axes([0.1, 0.1, 0.8, 0.8]) # main axes  # left, bottom, width, height\n",
    "axes2 = fig.add_axes([0.2, 0.5, 0.4, 0.3]) # inset axes  # left, bottom, width, height\n",
    "\n",
    "# main figure\n",
    "axes1.plot(x, y, 'r')\n",
    "axes1.set_xlabel('x')\n",
    "axes1.set_ylabel('y')\n",
    "axes1.set_title('title')\n",
    "\n",
    "# insert\n",
    "axes2.plot(y, x, 'g')\n",
    "axes2.set_xlabel('y')\n",
    "axes2.set_ylabel('x')\n",
    "axes2.set_title('insert title');"
   ]
  },
  {
   "cell_type": "markdown",
   "metadata": {},
   "source": [
    "### Default Axes\n",
    "\n",
    "If we don't care to be explicit about where our plot axes are placed in the figure canvas, then we can use one of the many axis layout managers in matplotlib. The most used one is subplots, which can be used like this:"
   ]
  },
  {
   "cell_type": "code",
   "execution_count": null,
   "metadata": {},
   "outputs": [],
   "source": [
    "fig, axes = plt.subplots()\n",
    "\n",
    "axes.plot(x, y, 'r')\n",
    "axes.set_xlabel('x')\n",
    "axes.set_ylabel('y')\n",
    "axes.set_title('title');"
   ]
  },
  {
   "cell_type": "markdown",
   "metadata": {},
   "source": [
    "### Creating Subplots\n",
    "\n"
   ]
  },
  {
   "cell_type": "code",
   "execution_count": null,
   "metadata": {},
   "outputs": [],
   "source": [
    "fig, axes = plt.subplots(nrows=1, ncols=2)\n",
    "\n",
    "for ax in axes:\n",
    "    ax.plot(x, y, 'r')\n",
    "    ax.set_xlabel('x')\n",
    "    ax.set_ylabel('y')\n",
    "    ax.set_title('title');\n",
    "    \n",
    "fig.tight_layout()"
   ]
  },
  {
   "cell_type": "markdown",
   "metadata": {},
   "source": [
    "#### Remove Overlapping\n",
    "\n",
    "Use the fig.tight_layout method, to automatically adjusts the positions of the axes on the figure canvas so that there is no overlapping content:"
   ]
  },
  {
   "cell_type": "markdown",
   "metadata": {},
   "source": [
    "## 3.  Layout and Formatting\n",
    "Figure size, aspect ratio and DPI\n"
   ]
  },
  {
   "cell_type": "code",
   "execution_count": null,
   "metadata": {},
   "outputs": [],
   "source": [
    "fig = plt.figure(figsize=(8,4), dpi=100)"
   ]
  },
  {
   "cell_type": "code",
   "execution_count": null,
   "metadata": {},
   "outputs": [],
   "source": [
    "fig.set"
   ]
  },
  {
   "cell_type": "markdown",
   "metadata": {},
   "source": [
    "The same arguments can also be passed to layout managers, such as the subplots function."
   ]
  },
  {
   "cell_type": "code",
   "execution_count": null,
   "metadata": {},
   "outputs": [],
   "source": [
    "fig, axes = plt.subplots(figsize=(12,3))\n",
    "\n",
    "axes.plot(x, y, 'r')\n",
    "axes.set_xlabel('x')\n",
    "axes.set_ylabel('y')\n",
    "axes.set_title('title')"
   ]
  },
  {
   "cell_type": "markdown",
   "metadata": {},
   "source": [
    "#### Axes titles\n",
    "\n",
    "A title can be added to each axis instance in a figure. Similarly, using the methods set_xlabel and set_ylabel we can set the labels of the X and Y axes. \n"
   ]
  },
  {
   "cell_type": "code",
   "execution_count": null,
   "metadata": {},
   "outputs": [],
   "source": [
    "ax.set_title(\"title\")\n",
    "ax.set_xlabel(\"x\")\n",
    "ax.set_ylabel(\"y\")"
   ]
  },
  {
   "cell_type": "markdown",
   "metadata": {},
   "source": [
    "#### Legends\n",
    "\n",
    "Legends to curves in a figure can be added in two ways. use the label=\"label text\" keyword argument when plots a other objects are added to the figure, and then using the legend method without arguments to add the legend. The legend function takes and optional keywork argument loc that can be used to specify where in the figure the legend is to be drawn. The allowed values of loc are numerical codes for the various places the legend can be drawn. See http://matplotlib.org/users/legend_guide.html#legend-location for details. Some most common alternatives are:"
   ]
  },
  {
   "cell_type": "code",
   "execution_count": null,
   "metadata": {},
   "outputs": [],
   "source": [
    "fig, ax = plt.subplots()\n",
    "ax.plot(x, x**2, label=\"curve1\")\n",
    "ax.plot(x, x**3, label=\"curve2\")\n",
    "ax.legend(loc=0); # let matplotlib decide the optimal location\n",
    "# ax.legend(loc=1) # upper right corner\n",
    "# ax.legend(loc=2) # upper left corner\n",
    "# ax.legend(loc=3) # lower left corner\n",
    "# ax.legend(loc=4) # lower right corner\n",
    "# .. many more options are available"
   ]
  },
  {
   "cell_type": "code",
   "execution_count": null,
   "metadata": {},
   "outputs": [],
   "source": [
    "fig, ax = plt.subplots()\n",
    "\n",
    "ax.plot(x, x**2, label=\"y = x**2\")\n",
    "ax.plot(x, x**3, label=\"y = x**3\")\n",
    "ax.set_xlabel('x', fontsize=18)\n",
    "ax.set_ylabel('y', fontsize=18)\n",
    "ax.set_title('title', fontsize=16)\n",
    "ax.legend(loc=2, fontsize=16); # upper left corner"
   ]
  },
  {
   "cell_type": "markdown",
   "metadata": {},
   "source": [
    "Font size can be changed in axes, title, legend as shown above.  We can also change the global font size and font family, which applies to all text elements in a figure (tick labels, axis labels and titles, legends, etc.):"
   ]
  },
  {
   "cell_type": "code",
   "execution_count": null,
   "metadata": {},
   "outputs": [],
   "source": [
    "import matplotlib\n",
    "# Update the matplotlib configuration parameters:\n",
    "matplotlib.rcParams.update({'font.size': 18, 'font.family': 'serif'})\n",
    "\n",
    "# to restore\n",
    "matplotlib.rcParams.update({'font.size': 12, 'font.family': 'sans'})"
   ]
  },
  {
   "cell_type": "markdown",
   "metadata": {},
   "source": [
    "-------------"
   ]
  },
  {
   "cell_type": "markdown",
   "metadata": {},
   "source": [
    "## 4. Selected Types of graphs: \n",
    "\n",
    "## 4.1 Scatter Plot\n",
    "\n",
    "In a scatter plot, the values of 2 variables are plotted as points on a 2-dimensional grid. Additionally, you can also use a third variable to determine the size or color of the points. Let's try out an example.\n"
   ]
  },
  {
   "cell_type": "code",
   "execution_count": null,
   "metadata": {},
   "outputs": [],
   "source": [
    "rng = np.random.RandomState(0)\n",
    "x = rng.randn(100) #return a sample (or samples) from the “standard normal” distribution.\n",
    "y = rng.randn(100)\n",
    "plt.scatter(x, y)"
   ]
  },
  {
   "cell_type": "code",
   "execution_count": null,
   "metadata": {},
   "outputs": [],
   "source": [
    "rng = np.random.RandomState(0)\n",
    "x = rng.randn(100)\n",
    "y = rng.randn(100)\n",
    "colors = rng.rand(100)\n",
    "sizes = 1000 * rng.rand(100)\n",
    "\n",
    "plt.scatter(x, y, c=colors, s=sizes, alpha=0.3,\n",
    "            cmap='viridis')\n",
    "plt.colorbar();  # show color scale"
   ]
  },
  {
   "cell_type": "markdown",
   "metadata": {},
   "source": [
    "## 4.2 Bar chart"
   ]
  },
  {
   "cell_type": "code",
   "execution_count": null,
   "metadata": {},
   "outputs": [],
   "source": [
    "# Example data\n",
    "people = ('Tom', 'Dick', 'Harry', 'Slim', 'Jim')\n",
    "y_pos = np.arange(len(people))\n",
    "performance = 3 + 10 * np.random.rand(len(people))\n",
    "\n",
    "plt.barh(y_pos, performance, align='center', alpha=0.4)\n",
    "plt.yticks(y_pos, people)\n",
    "plt.xlabel('Performance')\n",
    "plt.title('How fast do you want to go today?')\n",
    "\n",
    "plt.show()"
   ]
  },
  {
   "cell_type": "code",
   "execution_count": null,
   "metadata": {},
   "outputs": [],
   "source": [
    "performance"
   ]
  },
  {
   "cell_type": "markdown",
   "metadata": {},
   "source": [
    "### Try to change this to bar instead of barh"
   ]
  },
  {
   "cell_type": "markdown",
   "metadata": {},
   "source": [
    "## 4.3 Pie chart\n",
    "A pie chart is a circular statistical graphic, which is divided into slices to illustrate numerical proportion. In a pie chart, the arc length of each slice, is proportional to the quantity it represents."
   ]
  },
  {
   "cell_type": "code",
   "execution_count": null,
   "metadata": {},
   "outputs": [],
   "source": [
    "labels = 'Frogs', 'Hogs', 'Dogs', 'Logs'\n",
    "sizes = [15, 30, 45, 10]\n",
    "colors = ['yellowgreen', 'gold', 'lightskyblue', 'lightcoral']\n",
    "explode = (0, 0, 0.1, 0.5) # only \"explode\" the 2nd slice (i.e. 'Hogs')\n",
    "\n",
    "plt.pie(sizes, explode=explode, labels=labels, colors=colors,\n",
    "        autopct='%1.1f%%', shadow=True, startangle=90)\n",
    "# Set aspect ratio to be equal so that pie is drawn as a circle.\n",
    "plt.axis('equal')\n",
    "plt.show()"
   ]
  },
  {
   "cell_type": "markdown",
   "metadata": {},
   "source": [
    "## 4.4  Box Plots\n",
    "A Box Plot is also known as Whisker plot is created to display the summary of the set of data values having properties like minimum, first quartile, median, third quartile and maximum. In the box plot, a box is created from the first quartile to the third quartile, a verticle line is also there which goes through the box at the median. Here x-axis denotes the data to be plotted while the y-axis shows the frequency distribution."
   ]
  },
  {
   "cell_type": "code",
   "execution_count": null,
   "metadata": {},
   "outputs": [],
   "source": [
    "# Creating dataset \n",
    "np.random.seed(10) \n",
    "data = np.random.normal(100, 20, 200) \n",
    "  \n",
    "fig = plt.figure(figsize =(10, 7)) \n",
    "  \n",
    "# Creating plot \n",
    "plt.boxplot(data); "
   ]
  },
  {
   "cell_type": "code",
   "execution_count": null,
   "metadata": {},
   "outputs": [],
   "source": [
    "data"
   ]
  },
  {
   "cell_type": "markdown",
   "metadata": {},
   "source": [
    "## References and further reading\n",
    "- http://matplotlib.org/gallery.html - A large gallery that showcase what kind of plots matplotlib can create. Highly recommended!\n",
    "- http://www.loria.fr/~rougier/teaching/matplotlib - A good matplotlib tutorial.\n",
    "- https://nbviewer.jupyter.org/github/mgrani/LODA-lecture-notes-on-data-analysis/blob/master/I.Data-Science-in-Python/DSiP-5-Matplotlib.ipynb\n",
    "- https://jovian.ai/aakashns/python-matplotlib-data-visualization    "
   ]
  }
 ],
 "metadata": {
  "kernelspec": {
   "display_name": "Python 3 (ipykernel)",
   "language": "python",
   "name": "python3"
  },
  "language_info": {
   "codemirror_mode": {
    "name": "ipython",
    "version": 3
   },
   "file_extension": ".py",
   "mimetype": "text/x-python",
   "name": "python",
   "nbconvert_exporter": "python",
   "pygments_lexer": "ipython3",
   "version": "3.9.6"
  }
 },
 "nbformat": 4,
 "nbformat_minor": 4
}
