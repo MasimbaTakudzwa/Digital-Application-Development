{
 "cells": [
  {
   "cell_type": "markdown",
   "metadata": {},
   "source": [
    "# LLP109: Digital Application Development \n",
    "# `Lecture 6- Python Practice (Numpy) Answer 2 (challenges)`\n"
   ]
  },
  {
   "cell_type": "markdown",
   "metadata": {},
   "source": [
    " ## Ch #1: \n",
    " Consider the vector [1, 2, 3, 4, 5], how to build a new vector with 3 consecutive zeros interleaved between each value?\n"
   ]
  },
  {
   "cell_type": "code",
   "execution_count": 50,
   "metadata": {},
   "outputs": [
    {
     "name": "stdout",
     "output_type": "stream",
     "text": [
      "[1. 0. 0. 0. 2. 0. 0. 0. 3. 0. 0. 0. 4. 0. 0. 0. 5.]\n"
     ]
    }
   ],
   "source": [
    "Z = np.array([1,2,3,4,5])\n",
    "nz = 3\n",
    "Z0 = np.zeros(len(Z) + (len(Z)-1)*(nz))\n",
    "Z0[::nz+1] = Z\n",
    "print(Z0)"
   ]
  },
  {
   "cell_type": "markdown",
   "metadata": {},
   "source": [
    "## Ch #2:\n",
    "Create a 2D array subclass to create a symmetric matrix such that Z[i,j] == Z[j,i] \n",
    "\n",
    "Expected output: \n",
    "[[ 8  8  2  1  8]\n",
    " [ 8  0 13 12 13]\n",
    " [ 2 13  3 42  7]\n",
    " [ 1 12 42  8 11]\n",
    " [ 8 13  7 11  3]]"
   ]
  },
  {
   "cell_type": "code",
   "execution_count": 62,
   "metadata": {},
   "outputs": [
    {
     "name": "stdout",
     "output_type": "stream",
     "text": [
      "[[ 8  8  2  1  8]\n",
      " [ 8  0 13 12 13]\n",
      " [ 2 13  3 42  7]\n",
      " [ 1 12 42  8 11]\n",
      " [ 8 13  7 11  3]]\n"
     ]
    }
   ],
   "source": [
    "class Symetric(np.ndarray):\n",
    "    def __setitem__(self, index, value):\n",
    "        i,j = index\n",
    "        super(Symetric, self).__setitem__((i,j), value)\n",
    "        super(Symetric, self).__setitem__((j,i), value)\n",
    "\n",
    "def symetric(Z):\n",
    "    return np.asarray(Z + Z.T - np.diag(Z.diagonal())).view(Symetric)\n",
    "\n",
    "S = symetric(np.random.randint(0,10,(5,5)))\n",
    "S[2,3] = 42\n",
    "print(S)"
   ]
  },
  {
   "cell_type": "markdown",
   "metadata": {},
   "source": [
    "## Ch #3: \n",
    "10 fish occupy a 5x5x5 grid of water. Each fish decides to move to a new (i,j,k) location given by the matrix below. If multiple fish end up occupying the same cell, the biggest fish eats the smaller fish. Determine which fish will survive."
   ]
  },
  {
   "cell_type": "code",
   "execution_count": 87,
   "metadata": {},
   "outputs": [
    {
     "name": "stdout",
     "output_type": "stream",
     "text": [
      "[0.30129983 2.53799701 1.77438601 0.90979106 2.55391264 0.49884555\n",
      " 2.44545933 3.3448172  0.87635673 2.21216015]\n"
     ]
    }
   ],
   "source": [
    "locs = np.array([\n",
    "    [0,0,0],\n",
    "    [1,1,2],\n",
    "    [0,0,0],\n",
    "    [2,1,3],\n",
    "    [5,5,4],\n",
    "    [5,0,0],\n",
    "    [5,0,0],\n",
    "    [0,0,0],\n",
    "    [2,1,3],\n",
    "    [1,3,1]\n",
    "])\n",
    "generator = np.random.default_rng(1010)\n",
    "weights = generator.normal(2,size=10)\n",
    "print(weights)"
   ]
  },
  {
   "cell_type": "code",
   "execution_count": 88,
   "metadata": {},
   "outputs": [
    {
     "name": "stdout",
     "output_type": "stream",
     "text": [
      "[7 1 9 3 6 4]\n"
     ]
    }
   ],
   "source": [
    "sorted_fish = np.argsort(weights)[::-1]\n",
    "uniques, first_idxs = np.unique(locs[sorted_fish], axis = 0, return_index = True)\n",
    "survivors = sorted_fish[first_idxs]\n",
    "print(survivors)"
   ]
  },
  {
   "cell_type": "code",
   "execution_count": null,
   "metadata": {},
   "outputs": [],
   "source": []
  }
 ],
 "metadata": {
  "kernelspec": {
   "display_name": "Python 3 (ipykernel)",
   "language": "python",
   "name": "python3"
  },
  "language_info": {
   "codemirror_mode": {
    "name": "ipython",
    "version": 3
   },
   "file_extension": ".py",
   "mimetype": "text/x-python",
   "name": "python",
   "nbconvert_exporter": "python",
   "pygments_lexer": "ipython3",
   "version": "3.9.6"
  }
 },
 "nbformat": 4,
 "nbformat_minor": 4
}
