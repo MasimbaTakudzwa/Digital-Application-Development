{
 "cells": [
  {
   "cell_type": "markdown",
   "metadata": {},
   "source": [
    "# LLP109: Digital Application Development \n",
    "# `Lecture 3- Python Practice Answer 1 (exercises)`"
   ]
  },
  {
   "cell_type": "markdown",
   "metadata": {},
   "source": [
    "# <font color='Blue'>Exercises set 1: </font> "
   ]
  },
  {
   "cell_type": "markdown",
   "metadata": {},
   "source": [
    "__EX 1.1.__ Predict what the following lines of Python will do. Then, run object_reference to see if they match what you expect:\n",
    "\n",
    "Why does this happen? Talk with your neighbour.\n"
   ]
  },
  {
   "cell_type": "code",
   "execution_count": 1,
   "metadata": {},
   "outputs": [
    {
     "name": "stdout",
     "output_type": "stream",
     "text": [
      "[0, 0, 0]\n",
      "[1, 0, 0]\n",
      "['', '', '']\n",
      "['a', '', '']\n",
      "[[], [], []]\n",
      "[[1], [1], [1]]\n"
     ]
    }
   ],
   "source": [
    "s = [0] * 3\n",
    "print(s)\n",
    "s[0] += 1\n",
    "print(s)\n",
    "\n",
    "s = [''] * 3\n",
    "print(s)\n",
    "s[0] += 'a'\n",
    "print(s)\n",
    "\n",
    "s = [[]] * 3\n",
    "print(s)\n",
    "s[0] += [1]\n",
    "print(s)"
   ]
  },
  {
   "cell_type": "markdown",
   "metadata": {},
   "source": [
    "__EX 1.2.__ Given the following lists:"
   ]
  },
  {
   "cell_type": "code",
   "execution_count": 2,
   "metadata": {},
   "outputs": [],
   "source": [
    "device1 = ['Macbook Pro', 2479]\n",
    "device2 = ['Dell XPS', 1899]\n",
    "device3 = ['Asus Notebook', 1599]"
   ]
  },
  {
   "cell_type": "markdown",
   "metadata": {},
   "source": [
    "- Add colour to each of the devices.\n",
    "- The Asus has been renamed Asus Zenbook, change its name.\n",
    "- Form a list containing all the devices. \n",
    "\n",
    "__Expected output:__\n",
    "[[’Macbook Pro’, 2479, ’White’], [’Dell XPS’, 1899, ’Silver’], [’Asus Zenbook’, 1599, ’Red’]]"
   ]
  },
  {
   "cell_type": "code",
   "execution_count": 3,
   "metadata": {},
   "outputs": [],
   "source": [
    "#sol\n",
    "#1\n",
    "device1.append('White')\n",
    "device2.append('Silver')\n",
    "device3.append('Red')\n",
    "\n"
   ]
  },
  {
   "cell_type": "code",
   "execution_count": 4,
   "metadata": {},
   "outputs": [],
   "source": [
    "#2\n",
    "device3[0]='Asus Zenbook'"
   ]
  },
  {
   "cell_type": "code",
   "execution_count": 5,
   "metadata": {},
   "outputs": [],
   "source": [
    "#3\n",
    "device_list = [device1,device2,device3]"
   ]
  },
  {
   "cell_type": "markdown",
   "metadata": {},
   "source": [
    "__EX 1.3.__ Manipulate the following lists to obtain a list of all possible concatenated two word strings.\n",
    "\n",
    "__Expected output:__ [’Hello World’, ’Hello Python’, ’Bye World’, ’Bye Python’]"
   ]
  },
  {
   "cell_type": "code",
   "execution_count": 6,
   "metadata": {},
   "outputs": [],
   "source": [
    "list1 = [\"Hello\", \"Bye\"]\n",
    "list2 = [\"World\", \"Python\"]"
   ]
  },
  {
   "cell_type": "code",
   "execution_count": 7,
   "metadata": {},
   "outputs": [
    {
     "name": "stdout",
     "output_type": "stream",
     "text": [
      "['Hello World', 'Hello Python', 'Bye World', 'Bye Python']\n"
     ]
    }
   ],
   "source": [
    "mergeList=[]\n",
    "for i in list1:\n",
    "    for j in list2: \n",
    "        mergeList.append(i+' '+j)\n",
    "print(mergeList)"
   ]
  },
  {
   "cell_type": "markdown",
   "metadata": {},
   "source": [
    "__EX 1.4.__ Remove every occurrence of the elements of value 99 from the following list using list modifiers:\n",
    "\n",
    "__Note:__ remove method removed only the first instance of value. "
   ]
  },
  {
   "cell_type": "code",
   "execution_count": 8,
   "metadata": {},
   "outputs": [],
   "source": [
    "numbers = [12, 24, 22, 66, 99, 45, 99, 57, 89, 99, 20, 99,99]"
   ]
  },
  {
   "cell_type": "markdown",
   "metadata": {},
   "source": [
    "__Expected output:__ [12, 24, 22, 66, 45, 57, 89, 20]"
   ]
  },
  {
   "cell_type": "code",
   "execution_count": 9,
   "metadata": {},
   "outputs": [
    {
     "name": "stdout",
     "output_type": "stream",
     "text": [
      "[12, 24, 22, 66, 45, 57, 89, 20, 99, 99]\n"
     ]
    }
   ],
   "source": [
    "#this code won't work correctly, why is that? Check the lecture 3A slide 36 for more details \n",
    "numbers = [99,99,12, 24, 22, 66, 99, 45, 99, 57, 89, 99, 20, 99,99]\n",
    "for i in numbers: \n",
    "    if (i==99):\n",
    "        numbers.remove(i)\n",
    "print(numbers)"
   ]
  },
  {
   "cell_type": "code",
   "execution_count": 10,
   "metadata": {},
   "outputs": [
    {
     "name": "stdout",
     "output_type": "stream",
     "text": [
      "[12, 24, 22, 66, 45, 57, 89, 20]\n"
     ]
    }
   ],
   "source": [
    "#The right answer is: \n",
    "new_numbers= numbers[:]\n",
    "for i in new_numbers: \n",
    "    if (i==99):\n",
    "        numbers.remove(i)\n",
    "print(numbers)"
   ]
  },
  {
   "cell_type": "code",
   "execution_count": 11,
   "metadata": {},
   "outputs": [],
   "source": [
    "# Or using comprehension\n",
    "numbers_new = [x for x in numbers if x != 99] # using list comprehension"
   ]
  },
  {
   "cell_type": "markdown",
   "metadata": {},
   "source": [
    "------"
   ]
  },
  {
   "cell_type": "markdown",
   "metadata": {},
   "source": [
    "# <font color= 'blue'>Exercises set 2:</font>\n",
    "__EX 2.1.__ Get the key of a minimum value from the following dictionary\n",
    "use min function, you can look it up here https://docs.python.org/3/library/functions.html#min"
   ]
  },
  {
   "cell_type": "code",
   "execution_count": 12,
   "metadata": {},
   "outputs": [],
   "source": [
    "sampleDict = {\n",
    "  'Physics': 82,\n",
    "  'Math': 65,\n",
    "  'history': 75\n",
    "}\n",
    "#Expected output: Math"
   ]
  },
  {
   "cell_type": "code",
   "execution_count": 13,
   "metadata": {},
   "outputs": [
    {
     "name": "stdout",
     "output_type": "stream",
     "text": [
      "Math\n"
     ]
    }
   ],
   "source": [
    "print(min(sampleDict))"
   ]
  },
  {
   "cell_type": "markdown",
   "metadata": {},
   "source": [
    "__EX 2.2.__ Iterate a given list and check if a given element exists as a key’s value in a dictionary. If not, delete it from the list"
   ]
  },
  {
   "cell_type": "code",
   "execution_count": 14,
   "metadata": {},
   "outputs": [],
   "source": [
    "roll_number = [47, 64, 69, 37, 76, 83, 95, 97]\n",
    "sample_dict = {'Jhon':47, 'Emma':69, 'Kelly':76, 'Jason':97}\n",
    "#Output after removing unwanted elements from list [47, 69, 76, 97]\n"
   ]
  },
  {
   "cell_type": "code",
   "execution_count": 15,
   "metadata": {},
   "outputs": [
    {
     "name": "stdout",
     "output_type": "stream",
     "text": [
      "[47, 69, 76, 97]\n"
     ]
    }
   ],
   "source": [
    "roll_number2=[] # to avoid mutation side effect\n",
    "for i in roll_number:\n",
    "    if i in sample_dict.values():\n",
    "        roll_number2.append(i)\n",
    "print (roll_number2)"
   ]
  },
  {
   "cell_type": "markdown",
   "metadata": {},
   "source": [
    "__EX 2.3.__ Write a script that takes a list of dictionaries and returns the sum of people's budgets."
   ]
  },
  {
   "cell_type": "code",
   "execution_count": 16,
   "metadata": {},
   "outputs": [],
   "source": [
    "d1=  { \"name\": \"John\", \"age\": 21, \"budget\": 23000 }\n",
    "d2=   { \"name\": \"Steve\",  \"age\": 32, \"budget\": 40000 }\n",
    "d3=   { \"name\": \"Martin\",  \"age\": 16, \"budget\": 2700 }\n",
    "d= [d1, d2, d3]\n",
    "# Expected output: 65700"
   ]
  },
  {
   "cell_type": "code",
   "execution_count": 17,
   "metadata": {},
   "outputs": [
    {
     "name": "stdout",
     "output_type": "stream",
     "text": [
      "65700\n"
     ]
    }
   ],
   "source": [
    "sumBudget=0\n",
    "for dx in d: \n",
    "    sumBudget+=dx['budget']\n",
    "print (sumBudget)"
   ]
  },
  {
   "cell_type": "markdown",
   "metadata": {},
   "source": [
    "-------"
   ]
  },
  {
   "cell_type": "markdown",
   "metadata": {},
   "source": [
    "# <font color='Blue'> Exercises set 3:</font>\n",
    "__EX 3.1.__ Find the values which are common in both lists below:\n",
    "\n",
    "__Expected output:__ {5, 7, 9}"
   ]
  },
  {
   "cell_type": "code",
   "execution_count": 18,
   "metadata": {},
   "outputs": [],
   "source": [
    "list1 = [1,2,3,4,5,5,5,6,7,8,9]\n",
    "list2 = [9,10,11,11,5,7,12,13,14]"
   ]
  },
  {
   "cell_type": "code",
   "execution_count": 19,
   "metadata": {},
   "outputs": [
    {
     "data": {
      "text/plain": [
       "{5, 7, 9}"
      ]
     },
     "execution_count": 19,
     "metadata": {},
     "output_type": "execute_result"
    }
   ],
   "source": [
    "set(list1) & set(list2)"
   ]
  },
  {
   "cell_type": "markdown",
   "metadata": {},
   "source": [
    "__EX 3.2.__ Find the values which are in list1 but not in list2\n",
    "__Expected output:__ {1, 2, 3, 4, 6, 8}"
   ]
  },
  {
   "cell_type": "code",
   "execution_count": 20,
   "metadata": {},
   "outputs": [],
   "source": [
    "list1 = [1,2,3,4,5,5,5,6,7,8,9]\n",
    "list2 = [9,10,11,11,5,7,12,13,14]"
   ]
  },
  {
   "cell_type": "code",
   "execution_count": 21,
   "metadata": {},
   "outputs": [
    {
     "data": {
      "text/plain": [
       "{1, 2, 3, 4, 6, 8}"
      ]
     },
     "execution_count": 21,
     "metadata": {},
     "output_type": "execute_result"
    }
   ],
   "source": [
    "# Solution\n",
    "set(list1) - set(list2)"
   ]
  },
  {
   "cell_type": "markdown",
   "metadata": {},
   "source": [
    "__EX 3.3.__ Find whether the following string contains unique characters. Return True is string has no repeated character, and False otherwise\n",
    "\n",
    "__Expected output:__ False for str1 True for str2 True for str3"
   ]
  },
  {
   "cell_type": "code",
   "execution_count": 22,
   "metadata": {},
   "outputs": [],
   "source": [
    "str1 = 'hello'\n",
    "str2 = 'abcd'\n",
    "str3 = 'software'"
   ]
  },
  {
   "cell_type": "code",
   "execution_count": 23,
   "metadata": {},
   "outputs": [
    {
     "name": "stdout",
     "output_type": "stream",
     "text": [
      "False\n",
      "True\n",
      "True\n"
     ]
    }
   ],
   "source": [
    "print(len(str1) == len(set(str1)))\n",
    "print(len(str2) == len(set(str2)))\n",
    "print(len(str3) == len(set(str3)))"
   ]
  },
  {
   "cell_type": "markdown",
   "metadata": {},
   "source": [
    "__EX 3.4.__ Below is some simple data about characters from BoJack Horseman:\n",
    "The data contains the character name, the voice actor or actress who plays them, and the species of the character.\n",
    "\n",
    "Write a for loop that uses destructuring so that you can print each tuple in the following format:\n",
    "\n",
    "BoJack Horseman is a horse voiced by Will Arnet. (note lower and upper cases)\n",
    "\n"
   ]
  },
  {
   "cell_type": "code",
   "execution_count": 24,
   "metadata": {},
   "outputs": [],
   "source": [
    "main_characters = [\n",
    "    (\"BoJack Horseman\", \"Will Arnett\", \"Horse\"),\n",
    "    (\"Princess Carolyn\", \"Amy Sedaris\", \"Cat\"),\n",
    "    (\"Diane Nguyen\", \"Alison Brie\", \"Human\"),\n",
    "    (\"Mr. Peanutbutter\", \"Paul F. Tompkins\", \"Dog\"),\n",
    "    (\"Todd Chavez\", \"Aaron Paul\", \"Human\")\n",
    "]\n"
   ]
  },
  {
   "cell_type": "code",
   "execution_count": 25,
   "metadata": {},
   "outputs": [
    {
     "name": "stdout",
     "output_type": "stream",
     "text": [
      "Bojack Horseman is a horse voiced by Will Arnett\n",
      "Princess Carolyn is a cat voiced by Amy Sedaris\n",
      "Diane Nguyen is a human voiced by Alison Brie\n",
      "Mr. Peanutbutter is a dog voiced by Paul F. Tompkins\n",
      "Todd Chavez is a human voiced by Aaron Paul\n"
     ]
    }
   ],
   "source": [
    "for i in main_characters:\n",
    "    a,b,c = i\n",
    "    print (a.title()+\" is a \"+ c.lower()+\" voiced by \"+b.title())"
   ]
  },
  {
   "cell_type": "markdown",
   "metadata": {},
   "source": [
    "__EX 3.5.__ Unpack the following tuple into 4 variables:\n",
    "\n",
    "The data represents a student's name, their student id number, and their major and minor disciplines in that order.\n"
   ]
  },
  {
   "cell_type": "code",
   "execution_count": 26,
   "metadata": {},
   "outputs": [],
   "source": [
    "studentData= (\"John Smith\", 11743, (\"Computer Science\", \"Mathematics\"))\n"
   ]
  },
  {
   "cell_type": "code",
   "execution_count": 27,
   "metadata": {},
   "outputs": [],
   "source": [
    "name,sID,disciplines= studentData\n",
    "major, minor= disciplines"
   ]
  },
  {
   "cell_type": "markdown",
   "metadata": {},
   "source": [
    "__EX 3.6.__ Investigate what happens when you try to zip two iterables of different lengths. For example, try to zip a list containing three items, and a tuples containing four items. What if the length of our sequence is unequal? Discuss with your neighbour"
   ]
  },
  {
   "cell_type": "code",
   "execution_count": 28,
   "metadata": {},
   "outputs": [],
   "source": [
    "list1 = ['a', 'b', 'c', 'd', 'e', 'f']\n",
    "list2 = [1, 2, 3]\n",
    "zipped = zip(list1, list2)\n"
   ]
  },
  {
   "cell_type": "markdown",
   "metadata": {},
   "source": [
    "We can see that the zip function ignores the rest of the longer sequence. Therefore, we should\n",
    "use zip for unequal sequences if we don’t care about training."
   ]
  }
 ],
 "metadata": {
  "kernelspec": {
   "display_name": "Python 3 (ipykernel)",
   "language": "python",
   "name": "python3"
  },
  "language_info": {
   "codemirror_mode": {
    "name": "ipython",
    "version": 3
   },
   "file_extension": ".py",
   "mimetype": "text/x-python",
   "name": "python",
   "nbconvert_exporter": "python",
   "pygments_lexer": "ipython3",
   "version": "3.9.6"
  }
 },
 "nbformat": 4,
 "nbformat_minor": 4
}
