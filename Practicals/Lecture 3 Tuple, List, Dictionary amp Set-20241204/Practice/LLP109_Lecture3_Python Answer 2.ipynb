{
 "cells": [
  {
   "cell_type": "markdown",
   "metadata": {},
   "source": [
    "# LLP109: Digital Application Development \n",
    "# `Lecture 3- Python Practice Answer 2 (challenges)`\n",
    "\n",
    "Don't worry about doing these challenging problems. In most cases, challenge questions ask you to think more critically or use more advanced algorithms.\n",
    "\n"
   ]
  },
  {
   "cell_type": "markdown",
   "metadata": {},
   "source": [
    "__Ch #1.__ Flipping Dictionaries\n",
    "I asked our course staff what their favorite animal is and they gave me these answers:\n",
    "\n"
   ]
  },
  {
   "cell_type": "code",
   "execution_count": 8,
   "metadata": {},
   "outputs": [],
   "source": [
    "fav_animals = {\n",
    "    'Kevin': 'horse',\n",
    "    'Fanqi': 'Alpaca',\n",
    "    'Jack': 'dog',\n",
    "    'Ayush': 'dog',\n",
    "    'Zahraa': 'Alpaca',\n",
    "    'Ioana': 'cat',\n",
    "    'Edgardo': 'cat'\n",
    "}"
   ]
  },
  {
   "cell_type": "markdown",
   "metadata": {},
   "source": [
    "In this problem, we'll reverse the fav_animals dictionary to create a new dictionary which associates animals to a list of people for whom that animal is their favorite.\n",
    "More precisely, write a function that properly reverses the keys and values of a dictionary - each key (originally a value) should map to a collection of values (originally keys) that mapped to it.\n",
    "\n",
    "\n",
    "For example,\n",
    "=> {\"Alpaca\": [\"Zahraa\", \"Fanqi\"], \"horse\": [\"Kevin\"], \"dog\":[\"Jack\", \"Ayush\"], \"cat\":[Ioana, Edgardo]}\n",
    "\n",
    "Another example: "
   ]
  },
  {
   "cell_type": "code",
   "execution_count": 9,
   "metadata": {},
   "outputs": [],
   "source": [
    "flip_dict={\"CA\": \"US\", \"NY\": \"US\", \"ON\": \"CA\"}\n",
    "# => {\"US\": [\"CA\", \"NY\"], \"CA\": [\"ON\"]}"
   ]
  },
  {
   "cell_type": "markdown",
   "metadata": {},
   "source": [
    "Note: there is a data structure in the collections module from the standard library called defaultdict which provides exactly this sort of functionality. However, in this question try to solve it using loops instead of calling defaultdict. \n"
   ]
  },
  {
   "cell_type": "code",
   "execution_count": 10,
   "metadata": {},
   "outputs": [
    {
     "name": "stdout",
     "output_type": "stream",
     "text": [
      "{'horse': ['Kevin'], 'Alpaca': ['Fanqi', 'Zahraa'], 'dog': ['Jack', 'Ayush'], 'cat': ['Ioana', 'Edgardo']}\n"
     ]
    }
   ],
   "source": [
    "inverse = {}\n",
    "for key, value in fav_animals.items(): \n",
    "    # Check if in the inverted dict the key exists\n",
    "    if value not in inverse: \n",
    "        # If not create a new list\n",
    "        inverse[value] = [key] \n",
    "    else: \n",
    "        inverse[value].append(key) \n",
    "print (inverse)"
   ]
  },
  {
   "cell_type": "code",
   "execution_count": 11,
   "metadata": {},
   "outputs": [
    {
     "name": "stdout",
     "output_type": "stream",
     "text": [
      "{'horse': ['Kevin'], 'Alpaca': ['Fanqi', 'Zahraa'], 'dog': ['Jack', 'Ayush'], 'cat': ['Ioana', 'Edgardo']}\n"
     ]
    }
   ],
   "source": [
    "#ANOTHER SOL using defaultdict\n",
    "from collections import defaultdict\n",
    "favAnimal_inverted = defaultdict(list)\n",
    "for k, v in fav_animals.items():\n",
    "    favAnimal_inverted[v].append(k) \n",
    "\n",
    "result = dict(favAnimal_inverted)\n",
    "print(result)"
   ]
  },
  {
   "cell_type": "markdown",
   "metadata": {},
   "source": [
    "__Ch #2.__ Write a Python program to count the occurrences of each word in a given sentence.\n",
    "\n",
    "Example: 'the quick brown fox jumps over the lazy dog.'\n",
    "\n",
    "__Expected output:__ {'the': 2, 'jumps': 1, 'brown': 1, 'lazy': 1, 'fox': 1, 'over': 1, 'quick': 1, 'dog.': 1} \n",
    "\n"
   ]
  },
  {
   "cell_type": "code",
   "execution_count": 12,
   "metadata": {},
   "outputs": [
    {
     "name": "stdout",
     "output_type": "stream",
     "text": [
      "What is your sentence: the quick brown fox jumps over the lazy dog.\n",
      "{'the': 2, 'quick': 1, 'brown': 1, 'fox': 1, 'jumps': 1, 'over': 1, 'lazy': 1, 'dog': 1}\n"
     ]
    }
   ],
   "source": [
    "sentence= input (\"What is your sentence: \")\n",
    "punctuation= ['!','.','?'] # you can add more\n",
    "for p in punctuation:\n",
    "    sentence = sentence.replace(p,'')\n",
    "counts = dict()\n",
    "sentence= sentence.lower()\n",
    "words = sentence.split()\n",
    "for word in words:\n",
    "    if word in counts:\n",
    "        counts[word] += 1\n",
    "    else:\n",
    "        counts[word] = 1\n",
    "print (counts)"
   ]
  },
  {
   "cell_type": "markdown",
   "metadata": {},
   "source": [
    "__Ch #3.__Write a Python program to compute element-wise sum of given tuples.\n",
    "\n",
    "\n",
    "x = (1,2,3,4)\n",
    "y = (3,5,2,1)\n",
    "z = (2,2,3,1)\n",
    "results: (6, 9, 8, 6)"
   ]
  },
  {
   "cell_type": "code",
   "execution_count": 13,
   "metadata": {},
   "outputs": [
    {
     "name": "stdout",
     "output_type": "stream",
     "text": [
      "Original lists:\n",
      "(1, 2, 3, 4)\n",
      "(3, 5, 2, 1)\n",
      "(2, 2, 3, 1)\n",
      "\n",
      "Element-wise sum of the said tuples:\n"
     ]
    },
    {
     "data": {
      "text/plain": [
       "(6, 9, 8, 6)"
      ]
     },
     "execution_count": 13,
     "metadata": {},
     "output_type": "execute_result"
    }
   ],
   "source": [
    "x = (1,2,3,4)\n",
    "y = (3,5,2,1)\n",
    "z = (2,2,3,1)\n",
    "print(\"Original lists:\")\n",
    "print(x)\n",
    "print(y)\n",
    "print(z)\n",
    "print(\"\\nElement-wise sum of the said tuples:\")\n",
    "results= ()\n",
    "for a,b,c in zip(x,y,z):\n",
    "    results+= (a+b+c,)\n",
    "results"
   ]
  },
  {
   "cell_type": "code",
   "execution_count": 14,
   "metadata": {},
   "outputs": [
    {
     "name": "stdout",
     "output_type": "stream",
     "text": [
      "(6, 9, 8, 6)\n"
     ]
    }
   ],
   "source": [
    "#another solution\n",
    "result = tuple(map(sum, zip(x, y, z)))\n",
    "print(result)"
   ]
  }
 ],
 "metadata": {
  "kernelspec": {
   "display_name": "Python 3 (ipykernel)",
   "language": "python",
   "name": "python3"
  },
  "language_info": {
   "codemirror_mode": {
    "name": "ipython",
    "version": 3
   },
   "file_extension": ".py",
   "mimetype": "text/x-python",
   "name": "python",
   "nbconvert_exporter": "python",
   "pygments_lexer": "ipython3",
   "version": "3.9.6"
  }
 },
 "nbformat": 4,
 "nbformat_minor": 4
}
