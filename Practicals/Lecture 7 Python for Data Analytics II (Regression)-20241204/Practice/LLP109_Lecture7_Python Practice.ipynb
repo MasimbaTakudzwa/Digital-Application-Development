{
 "cells": [
  {
   "cell_type": "markdown",
   "id": "038b2000",
   "metadata": {},
   "source": [
    "\n",
    "# LLP109: Digital Application Development \n",
    "# `Lecture 7 - Python Practice (Regression)`\n",
    "\n"
   ]
  },
  {
   "cell_type": "markdown",
   "id": "0bcc8d3a",
   "metadata": {},
   "source": [
    "## Linear Regression"
   ]
  },
  {
   "cell_type": "markdown",
   "id": "9bc3b6cf",
   "metadata": {},
   "source": [
    "Topics we will cover are:\n",
    "\n",
    "- Simple Linear Regression\n",
    "- Multiple Linear regression\n",
    "- Logistic Regression "
   ]
  },
  {
   "cell_type": "code",
   "execution_count": 47,
   "id": "17b80d93",
   "metadata": {},
   "outputs": [],
   "source": [
    "import numpy as np \n",
    "import pandas as pd\n",
    "from sklearn.linear_model import LinearRegression\n",
    "import seaborn as sns\n",
    "import matplotlib.pyplot as plt\n",
    "\n",
    "import warnings\n",
    "warnings.filterwarnings('ignore')"
   ]
  },
  {
   "cell_type": "code",
   "execution_count": 3,
   "id": "234c3572",
   "metadata": {},
   "outputs": [],
   "source": [
    "# We start by importing the boston house prices dataset\n",
    "from sklearn.datasets import load_boston"
   ]
  },
  {
   "cell_type": "code",
   "execution_count": 8,
   "id": "7c80ad48",
   "metadata": {},
   "outputs": [
    {
     "name": "stdout",
     "output_type": "stream",
     "text": [
      "(506, 13)\n"
     ]
    }
   ],
   "source": [
    "\n",
    "boston = load_boston()\n",
    "print(boston.data.shape)"
   ]
  },
  {
   "cell_type": "code",
   "execution_count": 10,
   "id": "7574025c",
   "metadata": {},
   "outputs": [
    {
     "data": {
      "text/plain": [
       "array([[6.3200e-03, 1.8000e+01, 2.3100e+00, ..., 1.5300e+01, 3.9690e+02,\n",
       "        4.9800e+00],\n",
       "       [2.7310e-02, 0.0000e+00, 7.0700e+00, ..., 1.7800e+01, 3.9690e+02,\n",
       "        9.1400e+00],\n",
       "       [2.7290e-02, 0.0000e+00, 7.0700e+00, ..., 1.7800e+01, 3.9283e+02,\n",
       "        4.0300e+00],\n",
       "       ...,\n",
       "       [6.0760e-02, 0.0000e+00, 1.1930e+01, ..., 2.1000e+01, 3.9690e+02,\n",
       "        5.6400e+00],\n",
       "       [1.0959e-01, 0.0000e+00, 1.1930e+01, ..., 2.1000e+01, 3.9345e+02,\n",
       "        6.4800e+00],\n",
       "       [4.7410e-02, 0.0000e+00, 1.1930e+01, ..., 2.1000e+01, 3.9690e+02,\n",
       "        7.8800e+00]])"
      ]
     },
     "execution_count": 10,
     "metadata": {},
     "output_type": "execute_result"
    }
   ],
   "source": [
    "boston.data\n"
   ]
  },
  {
   "cell_type": "code",
   "execution_count": 12,
   "id": "f9080214",
   "metadata": {},
   "outputs": [
    {
     "name": "stdout",
     "output_type": "stream",
     "text": [
      ".. _boston_dataset:\n",
      "\n",
      "Boston house prices dataset\n",
      "---------------------------\n",
      "\n",
      "**Data Set Characteristics:**  \n",
      "\n",
      "    :Number of Instances: 506 \n",
      "\n",
      "    :Number of Attributes: 13 numeric/categorical predictive. Median Value (attribute 14) is usually the target.\n",
      "\n",
      "    :Attribute Information (in order):\n",
      "        - CRIM     per capita crime rate by town\n",
      "        - ZN       proportion of residential land zoned for lots over 25,000 sq.ft.\n",
      "        - INDUS    proportion of non-retail business acres per town\n",
      "        - CHAS     Charles River dummy variable (= 1 if tract bounds river; 0 otherwise)\n",
      "        - NOX      nitric oxides concentration (parts per 10 million)\n",
      "        - RM       average number of rooms per dwelling\n",
      "        - AGE      proportion of owner-occupied units built prior to 1940\n",
      "        - DIS      weighted distances to five Boston employment centres\n",
      "        - RAD      index of accessibility to radial highways\n",
      "        - TAX      full-value property-tax rate per $10,000\n",
      "        - PTRATIO  pupil-teacher ratio by town\n",
      "        - B        1000(Bk - 0.63)^2 where Bk is the proportion of black people by town\n",
      "        - LSTAT    % lower status of the population\n",
      "        - MEDV     Median value of owner-occupied homes in $1000's\n",
      "\n",
      "    :Missing Attribute Values: None\n",
      "\n",
      "    :Creator: Harrison, D. and Rubinfeld, D.L.\n",
      "\n",
      "This is a copy of UCI ML housing dataset.\n",
      "https://archive.ics.uci.edu/ml/machine-learning-databases/housing/\n",
      "\n",
      "\n",
      "This dataset was taken from the StatLib library which is maintained at Carnegie Mellon University.\n",
      "\n",
      "The Boston house-price data of Harrison, D. and Rubinfeld, D.L. 'Hedonic\n",
      "prices and the demand for clean air', J. Environ. Economics & Management,\n",
      "vol.5, 81-102, 1978.   Used in Belsley, Kuh & Welsch, 'Regression diagnostics\n",
      "...', Wiley, 1980.   N.B. Various transformations are used in the table on\n",
      "pages 244-261 of the latter.\n",
      "\n",
      "The Boston house-price data has been used in many machine learning papers that address regression\n",
      "problems.   \n",
      "     \n",
      ".. topic:: References\n",
      "\n",
      "   - Belsley, Kuh & Welsch, 'Regression diagnostics: Identifying Influential Data and Sources of Collinearity', Wiley, 1980. 244-261.\n",
      "   - Quinlan,R. (1993). Combining Instance-Based and Model-Based Learning. In Proceedings on the Tenth International Conference of Machine Learning, 236-243, University of Massachusetts, Amherst. Morgan Kaufmann.\n",
      "\n"
     ]
    }
   ],
   "source": [
    "# The description of the dataset\n",
    "print(boston.DESCR)"
   ]
  },
  {
   "cell_type": "markdown",
   "id": "d323d0e3",
   "metadata": {},
   "source": [
    "## Question 1: Perform EDA on this dataset! \n",
    "\n",
    "- We want you to think about how to analyse this dataset\n",
    "- Explore all variables\n",
    "- Think of interesting questions (write them down in text using markdown before attempting to code some solution)\n",
    "- Can you do any hypothesis testing on this data ? If so, think about it and write some code ?\n"
   ]
  },
  {
   "cell_type": "code",
   "execution_count": null,
   "id": "041e2fed",
   "metadata": {},
   "outputs": [],
   "source": [
    "# Your code here!"
   ]
  },
  {
   "cell_type": "code",
   "execution_count": null,
   "id": "94b5eed7",
   "metadata": {},
   "outputs": [],
   "source": []
  },
  {
   "cell_type": "code",
   "execution_count": null,
   "id": "c1acd0c2",
   "metadata": {},
   "outputs": [],
   "source": []
  },
  {
   "cell_type": "code",
   "execution_count": 13,
   "id": "ce35b0b9",
   "metadata": {},
   "outputs": [],
   "source": [
    "prices = pd.DataFrame(boston.data)"
   ]
  },
  {
   "cell_type": "code",
   "execution_count": 15,
   "id": "f82af56a",
   "metadata": {},
   "outputs": [
    {
     "data": {
      "text/plain": [
       "(506, 13)"
      ]
     },
     "execution_count": 15,
     "metadata": {},
     "output_type": "execute_result"
    }
   ],
   "source": [
    "prices.shape"
   ]
  },
  {
   "cell_type": "markdown",
   "id": "63f0f0f4",
   "metadata": {},
   "source": [
    "### Simple Linear Regression\n",
    "\n",
    "- We use 1 variable to predict a quantitative variable.\n",
    "- Remember: we want to find out relationship $y = f(x) + \\epsilon$\n",
    "- We assume that the relationship is linear i.e. it follows a the equation of a line.\n",
    "- y = ax + b\n",
    "- We use least squares approach to find the coefficients. \n",
    "- DOne using LinearRegression module in sklearn"
   ]
  },
  {
   "cell_type": "markdown",
   "id": "88c49bc8",
   "metadata": {},
   "source": [
    "## Let us start with one variable in the dataset\n",
    "\n",
    "- For simplicity, I chose variable 0, CRIM\n",
    "- Let us plot this"
   ]
  },
  {
   "cell_type": "code",
   "execution_count": 21,
   "id": "34ae3909",
   "metadata": {},
   "outputs": [
    {
     "data": {
      "text/plain": [
       "<AxesSubplot:xlabel='CRIM', ylabel='price'>"
      ]
     },
     "execution_count": 21,
     "metadata": {},
     "output_type": "execute_result"
    },
    {
     "data": {
      "image/png": "[encoded data removed]",
      "text/plain": [
       "<Figure size 432x288 with 1 Axes>"
      ]
     },
     "metadata": {
      "needs_background": "light"
     },
     "output_type": "display_data"
    }
   ],
   "source": [
    "prices.plot(0, 12, kind='scatter', xlabel='CRIM', ylabel='price')\n"
   ]
  },
  {
   "cell_type": "code",
   "execution_count": 25,
   "id": "4948185f",
   "metadata": {},
   "outputs": [],
   "source": [
    "prices_var0 = prices[[0, 12]]\n"
   ]
  },
  {
   "cell_type": "markdown",
   "id": "1fe97333",
   "metadata": {},
   "source": [
    "# I split the dataset for training and testing\n",
    "\n",
    "- 200 rows for trainig\n",
    "- remaining for testing"
   ]
  },
  {
   "cell_type": "code",
   "execution_count": 27,
   "id": "0a607cdf",
   "metadata": {},
   "outputs": [],
   "source": [
    "prices_var0_training = prices_var0[:200]\n",
    "prices_var0_testing = prices_var0[200:]\n"
   ]
  },
  {
   "cell_type": "code",
   "execution_count": 45,
   "id": "e0814b2e",
   "metadata": {},
   "outputs": [],
   "source": [
    "# Creating a simple linear regression model\n",
    "\n",
    "simlinreg = LinearRegression()\n",
    "X = prices_var0_training[[0]].values.reshape(200, 1)\n",
    "y = prices_var0_training[[12]].values.reshape(200,1)\n",
    "\n",
    "# fir the model\n",
    "simlinreg.fit(X, y)\n",
    "\n",
    "# evaluate model\n",
    "X_test = prices_var0_testing[[0]].values.reshape(306, 1)\n",
    "y_test = prices_var0_testing[[12]].values.reshape(306, 1)\n",
    "\n",
    "\n",
    "predictions = simlinreg.predict(X_test)\n"
   ]
  },
  {
   "cell_type": "code",
   "execution_count": 48,
   "id": "1bdf53e3",
   "metadata": {},
   "outputs": [
    {
     "data": {
      "text/plain": [
       "[<matplotlib.lines.Line2D at 0x7f02f9992490>]"
      ]
     },
     "execution_count": 48,
     "metadata": {},
     "output_type": "execute_result"
    },
    {
     "data": {
      "image/png": "[encoded data removed]",
      "text/plain": [
       "<Figure size 432x288 with 1 Axes>"
      ]
     },
     "metadata": {
      "needs_background": "light"
     },
     "output_type": "display_data"
    }
   ],
   "source": [
    "plt.scatter(prices_var0_testing[[0]], prices_var0_testing[[12]])\n",
    "plt.plot(prices_var0_testing[[0]], predictions, color='blue')"
   ]
  },
  {
   "cell_type": "code",
   "execution_count": 49,
   "id": "c5091f65",
   "metadata": {},
   "outputs": [
    {
     "data": {
      "text/html": [
       "<div>\n",
       "<style scoped>\n",
       "    .dataframe tbody tr th:only-of-type {\n",
       "        vertical-align: middle;\n",
       "    }\n",
       "\n",
       "    .dataframe tbody tr th {\n",
       "        vertical-align: top;\n",
       "    }\n",
       "\n",
       "    .dataframe thead th {\n",
       "        text-align: right;\n",
       "    }\n",
       "</style>\n",
       "<table border=\"1\" class=\"dataframe\">\n",
       "  <thead>\n",
       "    <tr style=\"text-align: right;\">\n",
       "      <th></th>\n",
       "      <th>0</th>\n",
       "      <th>1</th>\n",
       "      <th>2</th>\n",
       "      <th>3</th>\n",
       "      <th>4</th>\n",
       "      <th>5</th>\n",
       "      <th>6</th>\n",
       "      <th>7</th>\n",
       "      <th>8</th>\n",
       "      <th>9</th>\n",
       "      <th>10</th>\n",
       "      <th>11</th>\n",
       "      <th>12</th>\n",
       "    </tr>\n",
       "  </thead>\n",
       "  <tbody>\n",
       "    <tr>\n",
       "      <th>count</th>\n",
       "      <td>506.000000</td>\n",
       "      <td>506.000000</td>\n",
       "      <td>506.000000</td>\n",
       "      <td>506.000000</td>\n",
       "      <td>506.000000</td>\n",
       "      <td>506.000000</td>\n",
       "      <td>506.000000</td>\n",
       "      <td>506.000000</td>\n",
       "      <td>506.000000</td>\n",
       "      <td>506.000000</td>\n",
       "      <td>506.000000</td>\n",
       "      <td>506.000000</td>\n",
       "      <td>506.000000</td>\n",
       "    </tr>\n",
       "    <tr>\n",
       "      <th>mean</th>\n",
       "      <td>3.613524</td>\n",
       "      <td>11.363636</td>\n",
       "      <td>11.136779</td>\n",
       "      <td>0.069170</td>\n",
       "      <td>0.554695</td>\n",
       "      <td>6.284634</td>\n",
       "      <td>68.574901</td>\n",
       "      <td>3.795043</td>\n",
       "      <td>9.549407</td>\n",
       "      <td>408.237154</td>\n",
       "      <td>18.455534</td>\n",
       "      <td>356.674032</td>\n",
       "      <td>12.653063</td>\n",
       "    </tr>\n",
       "    <tr>\n",
       "      <th>std</th>\n",
       "      <td>8.601545</td>\n",
       "      <td>23.322453</td>\n",
       "      <td>6.860353</td>\n",
       "      <td>0.253994</td>\n",
       "      <td>0.115878</td>\n",
       "      <td>0.702617</td>\n",
       "      <td>28.148861</td>\n",
       "      <td>2.105710</td>\n",
       "      <td>8.707259</td>\n",
       "      <td>168.537116</td>\n",
       "      <td>2.164946</td>\n",
       "      <td>91.294864</td>\n",
       "      <td>7.141062</td>\n",
       "    </tr>\n",
       "    <tr>\n",
       "      <th>min</th>\n",
       "      <td>0.006320</td>\n",
       "      <td>0.000000</td>\n",
       "      <td>0.460000</td>\n",
       "      <td>0.000000</td>\n",
       "      <td>0.385000</td>\n",
       "      <td>3.561000</td>\n",
       "      <td>2.900000</td>\n",
       "      <td>1.129600</td>\n",
       "      <td>1.000000</td>\n",
       "      <td>187.000000</td>\n",
       "      <td>12.600000</td>\n",
       "      <td>0.320000</td>\n",
       "      <td>1.730000</td>\n",
       "    </tr>\n",
       "    <tr>\n",
       "      <th>25%</th>\n",
       "      <td>0.082045</td>\n",
       "      <td>0.000000</td>\n",
       "      <td>5.190000</td>\n",
       "      <td>0.000000</td>\n",
       "      <td>0.449000</td>\n",
       "      <td>5.885500</td>\n",
       "      <td>45.025000</td>\n",
       "      <td>2.100175</td>\n",
       "      <td>4.000000</td>\n",
       "      <td>279.000000</td>\n",
       "      <td>17.400000</td>\n",
       "      <td>375.377500</td>\n",
       "      <td>6.950000</td>\n",
       "    </tr>\n",
       "    <tr>\n",
       "      <th>50%</th>\n",
       "      <td>0.256510</td>\n",
       "      <td>0.000000</td>\n",
       "      <td>9.690000</td>\n",
       "      <td>0.000000</td>\n",
       "      <td>0.538000</td>\n",
       "      <td>6.208500</td>\n",
       "      <td>77.500000</td>\n",
       "      <td>3.207450</td>\n",
       "      <td>5.000000</td>\n",
       "      <td>330.000000</td>\n",
       "      <td>19.050000</td>\n",
       "      <td>391.440000</td>\n",
       "      <td>11.360000</td>\n",
       "    </tr>\n",
       "    <tr>\n",
       "      <th>75%</th>\n",
       "      <td>3.677083</td>\n",
       "      <td>12.500000</td>\n",
       "      <td>18.100000</td>\n",
       "      <td>0.000000</td>\n",
       "      <td>0.624000</td>\n",
       "      <td>6.623500</td>\n",
       "      <td>94.075000</td>\n",
       "      <td>5.188425</td>\n",
       "      <td>24.000000</td>\n",
       "      <td>666.000000</td>\n",
       "      <td>20.200000</td>\n",
       "      <td>396.225000</td>\n",
       "      <td>16.955000</td>\n",
       "    </tr>\n",
       "    <tr>\n",
       "      <th>max</th>\n",
       "      <td>88.976200</td>\n",
       "      <td>100.000000</td>\n",
       "      <td>27.740000</td>\n",
       "      <td>1.000000</td>\n",
       "      <td>0.871000</td>\n",
       "      <td>8.780000</td>\n",
       "      <td>100.000000</td>\n",
       "      <td>12.126500</td>\n",
       "      <td>24.000000</td>\n",
       "      <td>711.000000</td>\n",
       "      <td>22.000000</td>\n",
       "      <td>396.900000</td>\n",
       "      <td>37.970000</td>\n",
       "    </tr>\n",
       "  </tbody>\n",
       "</table>\n",
       "</div>"
      ],
      "text/plain": [
       "               0           1           2           3           4           5   \\\n",
       "count  506.000000  506.000000  506.000000  506.000000  506.000000  506.000000   \n",
       "mean     3.613524   11.363636   11.136779    0.069170    0.554695    6.284634   \n",
       "std      8.601545   23.322453    6.860353    0.253994    0.115878    0.702617   \n",
       "min      0.006320    0.000000    0.460000    0.000000    0.385000    3.561000   \n",
       "25%      0.082045    0.000000    5.190000    0.000000    0.449000    5.885500   \n",
       "50%      0.256510    0.000000    9.690000    0.000000    0.538000    6.208500   \n",
       "75%      3.677083   12.500000   18.100000    0.000000    0.624000    6.623500   \n",
       "max     88.976200  100.000000   27.740000    1.000000    0.871000    8.780000   \n",
       "\n",
       "               6           7           8           9           10          11  \\\n",
       "count  506.000000  506.000000  506.000000  506.000000  506.000000  506.000000   \n",
       "mean    68.574901    3.795043    9.549407  408.237154   18.455534  356.674032   \n",
       "std     28.148861    2.105710    8.707259  168.537116    2.164946   91.294864   \n",
       "min      2.900000    1.129600    1.000000  187.000000   12.600000    0.320000   \n",
       "25%     45.025000    2.100175    4.000000  279.000000   17.400000  375.377500   \n",
       "50%     77.500000    3.207450    5.000000  330.000000   19.050000  391.440000   \n",
       "75%     94.075000    5.188425   24.000000  666.000000   20.200000  396.225000   \n",
       "max    100.000000   12.126500   24.000000  711.000000   22.000000  396.900000   \n",
       "\n",
       "               12  \n",
       "count  506.000000  \n",
       "mean    12.653063  \n",
       "std      7.141062  \n",
       "min      1.730000  \n",
       "25%      6.950000  \n",
       "50%     11.360000  \n",
       "75%     16.955000  \n",
       "max     37.970000  "
      ]
     },
     "execution_count": 49,
     "metadata": {},
     "output_type": "execute_result"
    }
   ],
   "source": [
    "prices.describe()"
   ]
  },
  {
   "cell_type": "code",
   "execution_count": 50,
   "id": "921b133c",
   "metadata": {},
   "outputs": [
    {
     "data": {
      "text/plain": [
       "-22.898573728812313"
      ]
     },
     "execution_count": 50,
     "metadata": {},
     "output_type": "execute_result"
    }
   ],
   "source": [
    "simlinreg.score(X_test, y_test)"
   ]
  },
  {
   "cell_type": "markdown",
   "id": "33dd780c",
   "metadata": {},
   "source": [
    "### We can see that this is not a very good model!\n",
    "\n",
    "- Can you plot the other 11 variables vs the target and see if any appears to have a linear relationship ?\n",
    "- If so, try to create a simple linear model with that variable\n"
   ]
  },
  {
   "cell_type": "code",
   "execution_count": null,
   "id": "20ce3c2f",
   "metadata": {},
   "outputs": [],
   "source": [
    "# Plot the other variables vs Price!"
   ]
  },
  {
   "cell_type": "code",
   "execution_count": null,
   "id": "fbec8d82",
   "metadata": {},
   "outputs": [],
   "source": [
    "# Create Simple linear regression model with some variables where relationship seems linear"
   ]
  },
  {
   "cell_type": "code",
   "execution_count": null,
   "id": "0242673c",
   "metadata": {},
   "outputs": [],
   "source": []
  },
  {
   "cell_type": "markdown",
   "id": "7f214b26",
   "metadata": {},
   "source": [
    "### Multiple Regression\n",
    "\n",
    "- Extension of the simple model to include more than 1 variable\n",
    "- $y = a_0 + a_1x_1 + a_2x_2 + \\cdots + a_nx_n$\n",
    "- We use LinearRegression from sklearn\n",
    "- Let us just use all variables!"
   ]
  },
  {
   "cell_type": "code",
   "execution_count": 51,
   "id": "c9be03ac",
   "metadata": {},
   "outputs": [],
   "source": [
    "prices_varall = prices.copy(deep=True)\n",
    "prices_varall_training = prices_varall[0:200]\n",
    "prices_varall_testing = prices_varall[200:]"
   ]
  },
  {
   "cell_type": "code",
   "execution_count": 53,
   "id": "df3fb771",
   "metadata": {},
   "outputs": [],
   "source": [
    "# We create the Linear regression model\n",
    "\n",
    "linreg = LinearRegression()\n",
    "X_1 = prices_varall_training[[0,1,2,3,4,5,6,7,8,9,10,11]].values.reshape(200, 12)\n",
    "y_1 = prices_varall_training[[12]].values.reshape(200,1)\n",
    "\n",
    "# fir the model\n",
    "linreg.fit(X_1, y_1)\n",
    "\n",
    "# evaluate model\n",
    "X_1_test = prices_varall_testing[[0,1,2,3,4,5,6,7,8,9,10,11]].values.reshape(306, 12)\n",
    "y_1_test = prices_varall_testing[[12]].values.reshape(306, 1)\n",
    "\n",
    "\n",
    "predictions_all = linreg.predict(X_1_test)"
   ]
  },
  {
   "cell_type": "code",
   "execution_count": 54,
   "id": "cac61c0a",
   "metadata": {},
   "outputs": [
    {
     "data": {
      "text/plain": [
       "-0.08259005801630859"
      ]
     },
     "execution_count": 54,
     "metadata": {},
     "output_type": "execute_result"
    }
   ],
   "source": [
    "linreg.score(X_1_test, y_1_test)"
   ]
  },
  {
   "cell_type": "markdown",
   "id": "365fb8de",
   "metadata": {},
   "source": [
    "## It appears that the model has improved from before but still the score is pretty poor!\n"
   ]
  },
  {
   "cell_type": "markdown",
   "id": "4a96afe6",
   "metadata": {},
   "source": [
    "## Challenge\n",
    "\n",
    "Here is a dataset from UCI machine learning lab\n",
    "\n",
    "https://gitlab.com/deeprd/sdpa/-/raw/main/household_power_consumption.txt\n",
    "\n",
    "The goal is to predict power consumption based on the input variables. \n",
    "\n",
    "More details about this dataset can be found here - https://archive.ics.uci.edu/ml/datasets/individual+household+electric+power+consumption\n",
    "\n",
    "1. Download the data\n",
    "2. Perform Exploratory data analysis (HINT: You might need to clean the data!!!)\n",
    "3. USe simple linear Regression to predict power consumption\n",
    "4. USe multiple regression to predict power consumption\n",
    "5. There are some missing data values in some columns. Using only the input columns, try to fill the missing values in the columns using linear regression. (Do this one column at a time). Do not use the target column."
   ]
  },
  {
   "cell_type": "code",
   "execution_count": null,
   "id": "519e8b0f",
   "metadata": {},
   "outputs": [],
   "source": []
  }
 ],
 "metadata": {
  "kernelspec": {
   "display_name": "Python 3 (ipykernel)",
   "language": "python",
   "name": "python3"
  },
  "language_info": {
   "codemirror_mode": {
    "name": "ipython",
    "version": 3
   },
   "file_extension": ".py",
   "mimetype": "text/x-python",
   "name": "python",
   "nbconvert_exporter": "python",
   "pygments_lexer": "ipython3",
   "version": "3.9.6"
  }
 },
 "nbformat": 4,
 "nbformat_minor": 5
}
