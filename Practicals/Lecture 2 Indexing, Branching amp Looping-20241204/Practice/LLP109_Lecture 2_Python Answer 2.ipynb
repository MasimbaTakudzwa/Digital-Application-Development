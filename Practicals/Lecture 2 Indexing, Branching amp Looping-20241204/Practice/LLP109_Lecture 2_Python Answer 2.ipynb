{
 "cells": [
  {
   "cell_type": "markdown",
   "metadata": {},
   "source": [
    "# LLP109: Digital Application Development \n",
    "# `Lecture 2- Python Practice Answer 2 (challenges)`\n"
   ]
  },
  {
   "cell_type": "markdown",
   "metadata": {},
   "source": [
    "Ch # 1. Find common unique characters between two sentences, while ignoring white space and cases. Example: s1= \"SDPA is fun\", s2= 'Alpaca are cute\", output: \"apu\""
   ]
  },
  {
   "cell_type": "code",
   "execution_count": 1,
   "metadata": {},
   "outputs": [
    {
     "name": "stdout",
     "output_type": "stream",
     "text": [
      "Enter the first sentence: SDPA is fun\n",
      "Enter the second sentence: Alpaca are cute\n",
      "pau\n"
     ]
    }
   ],
   "source": [
    "s1= input(\"Enter the first sentence: \")\n",
    "s2= input(\"Enter the second sentence: \")\n",
    "outputStr=\"\"\n",
    "s1= s1.replace(\" \",\"\").lower()\n",
    "s2= s2.replace(\" \",\"\").lower()\n",
    "\n",
    "for ch1 in s1:\n",
    "    for ch2 in s2:\n",
    "        if (ch1==ch2):\n",
    "            outputStr+=ch1\n",
    "            break\n",
    "print (outputStr)"
   ]
  },
  {
   "cell_type": "markdown",
   "metadata": {},
   "source": [
    "Ch # 2. Write a program to display all prime numbers within a range\n",
    "Note: A Prime Number is a number that cannot be made by multiplying other whole numbers. A prime number is a natural number greater than 1 that is not a product of two smaller natural numbers\n",
    "\n",
    "Examples: 6 is not a prime mumber because it can be made by 2×3 = 6\n",
    "37 is a prime number because no other whole numbers multiply together to make it.\n",
    "\n"
   ]
  },
  {
   "cell_type": "code",
   "execution_count": 2,
   "metadata": {},
   "outputs": [
    {
     "name": "stdout",
     "output_type": "stream",
     "text": [
      "Prime numbers between 25 and 50 are:\n",
      "29\n",
      "31\n",
      "37\n",
      "41\n",
      "43\n",
      "47\n"
     ]
    }
   ],
   "source": [
    "start = 25\n",
    "end = 50\n",
    "print(\"Prime numbers between\", start, \"and\", end, \"are:\")\n",
    "\n",
    "for num in range(start, end + 1):\n",
    "    # all prime numbers are greater than 1\n",
    "    # if number is less than or equal to 1, it is not prime\n",
    "    if num > 1:\n",
    "        for i in range(2, num):\n",
    "            # check for factors\n",
    "            if (num % i) == 0:\n",
    "                # not a prime number so break inner loop and\n",
    "                # look for next number\n",
    "                break\n",
    "        else:\n",
    "            print(num)"
   ]
  },
  {
   "cell_type": "markdown",
   "metadata": {},
   "source": [
    "Ch # 3. (advanced, 2pts) Write a Python program to draw a three stage rocket. Here is mine - you can make yours different!\n"
   ]
  },
  {
   "cell_type": "code",
   "execution_count": 3,
   "metadata": {},
   "outputs": [
    {
     "name": "stdout",
     "output_type": "stream",
     "text": [
      "   **\n",
      "  *  *\n",
      " *    *\n",
      "*======*\n",
      "|*    *|\n",
      "| *  * |\n",
      "|  **  |\n",
      "*======*\n",
      "|*    *|\n",
      "| *  * |\n",
      "|  **  |\n",
      "*======*\n",
      "|*    *|\n",
      "| *  * |\n",
      "|  **  |\n",
      "*======*\n"
     ]
    }
   ],
   "source": [
    "\n",
    "a= \"*\"\n",
    "b= \"=\"\n",
    "c= \"|\"\n",
    "for i in range (3,0,-1):\n",
    "    print(\" \"*(i)+a+(3-i)*2*\" \"+a)\n",
    "for i in range(3):\n",
    "    print (a+b*6+a)\n",
    "    k= 0\n",
    "    for j in range (3):\n",
    "        string1= c+\" \"*j+a\n",
    "        string1+=(4-j-k)*\" \"+a+k*\" \"+c\n",
    "        k+=1\n",
    "        print(string1)\n",
    "print (a+b*6+a)\n"
   ]
  }
 ],
 "metadata": {
  "kernelspec": {
   "display_name": "Python 3 (ipykernel)",
   "language": "python",
   "name": "python3"
  },
  "language_info": {
   "codemirror_mode": {
    "name": "ipython",
    "version": 3
   },
   "file_extension": ".py",
   "mimetype": "text/x-python",
   "name": "python",
   "nbconvert_exporter": "python",
   "pygments_lexer": "ipython3",
   "version": "3.9.6"
  }
 },
 "nbformat": 4,
 "nbformat_minor": 4
}
